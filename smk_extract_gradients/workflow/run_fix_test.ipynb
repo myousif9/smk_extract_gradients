{
 "cells": [
  {
   "cell_type": "code",
   "execution_count": 4,
   "metadata": {},
   "outputs": [],
   "source": [
    "import pandas as pd\n",
    "import os\n",
    "from bids import BIDSLayout\n",
    "from scripts.utilities import fmri_path_cohort\n",
    "from glob import glob"
   ]
  },
  {
   "cell_type": "code",
   "execution_count": 22,
   "metadata": {},
   "outputs": [
    {
     "name": "stderr",
     "output_type": "stream",
     "text": [
      "/home/myousif9/miniconda3/envs/smk-extractgrad_venv/lib/python3.9/site-packages/bids/layout/models.py:148: FutureWarning: The 'extension' entity currently excludes the leading dot ('.'). As of version 0.14.0, it will include the leading dot. To suppress this warning and include the leading dot, use `bids.config.set_option('extension_initial_dot', True)`.\n",
      "  warnings.warn(\"The 'extension' entity currently excludes the leading dot ('.'). \"\n"
     ]
    }
   ],
   "source": [
    "dm2 = BIDSLayout('/scratch/myousif9/DM2_dataset',derivatives=True)\n"
   ]
  },
  {
   "cell_type": "code",
   "execution_count": 23,
   "metadata": {},
   "outputs": [],
   "source": [
    "f = dm2.get(task = 'rest', space = 'MNI152NLin2009cAsym', suffix = 'bold', extension = '.nii.gz',  )"
   ]
  },
  {
   "cell_type": "code",
   "execution_count": 47,
   "metadata": {},
   "outputs": [
    {
     "data": {
      "text/plain": [
       "'/scratch/myousif9/DM2_dataset/derivatives/fmriprep/sub-S01/func/sub-S01_task-rest_dir-AP_run-1_space-MNI152NLin2009cAsym_desc-preproc_bold.nii.gz'"
      ]
     },
     "execution_count": 47,
     "metadata": {},
     "output_type": "execute_result"
    }
   ],
   "source": [
    "f[0].path"
   ]
  },
  {
   "cell_type": "code",
   "execution_count": 5,
   "metadata": {},
   "outputs": [],
   "source": [
    "bold_filenames = [bold.filename for bold in f]"
   ]
  },
  {
   "cell_type": "code",
   "execution_count": 45,
   "metadata": {},
   "outputs": [],
   "source": [
    "sub_idx = [next(iter([item.replace('sub-','') for item in file_name.filename.split('_') if 'sub' in item])) for file_name in f]\n"
   ]
  },
  {
   "cell_type": "code",
   "execution_count": 46,
   "metadata": {},
   "outputs": [
    {
     "data": {
      "text/plain": [
       "['S01',\n",
       " 'S02',\n",
       " 'S02',\n",
       " 'S03',\n",
       " 'S04',\n",
       " 'S05',\n",
       " 'S06',\n",
       " 'S07',\n",
       " 'S08',\n",
       " 'S09',\n",
       " 'S10',\n",
       " 'S11',\n",
       " 'S12',\n",
       " 'S13',\n",
       " 'S14',\n",
       " 'S14',\n",
       " 'S15',\n",
       " 'S16',\n",
       " 'S17',\n",
       " 'S18',\n",
       " 'S19',\n",
       " 'S20',\n",
       " 'S21',\n",
       " 'S22',\n",
       " 'S23',\n",
       " 'S24',\n",
       " 'S25',\n",
       " 'S26',\n",
       " 'S27',\n",
       " 'S28',\n",
       " 'S29',\n",
       " 'S30',\n",
       " 'S32',\n",
       " 'S33',\n",
       " 'S34',\n",
       " 'S35',\n",
       " 'S36',\n",
       " 'S37',\n",
       " 'S38',\n",
       " 'S39',\n",
       " 'S40',\n",
       " 'S41',\n",
       " 'S42',\n",
       " 'S43',\n",
       " 'S44',\n",
       " 'S45',\n",
       " 'S46',\n",
       " 'S48',\n",
       " 'S49',\n",
       " 'S50',\n",
       " 'S51',\n",
       " 'S52',\n",
       " 'S52',\n",
       " 'S53',\n",
       " 'S54',\n",
       " 'S55',\n",
       " 'S56',\n",
       " 'S57',\n",
       " 'S58',\n",
       " 'S59',\n",
       " 'S60',\n",
       " 'S61',\n",
       " 'S62',\n",
       " 'S63',\n",
       " 'S64',\n",
       " 'S65',\n",
       " 'S66',\n",
       " 'S67',\n",
       " 'S68',\n",
       " 'S69',\n",
       " 'S70',\n",
       " 'S71',\n",
       " 'S72',\n",
       " 'S73',\n",
       " 'S74',\n",
       " 'S75',\n",
       " 'S77',\n",
       " 'S78',\n",
       " 'S79',\n",
       " 'S80',\n",
       " 'S81',\n",
       " 'S82',\n",
       " 'S83',\n",
       " 'S84',\n",
       " 'S85',\n",
       " 'S86',\n",
       " 'S86',\n",
       " 'S87',\n",
       " 'S88',\n",
       " 'S89',\n",
       " 'S90',\n",
       " 'S91',\n",
       " 'S92',\n",
       " 'S93',\n",
       " 'S94',\n",
       " 'S95',\n",
       " 'S96',\n",
       " 'S97',\n",
       " 'S98',\n",
       " 'S99',\n",
       " 'S100',\n",
       " 'S101',\n",
       " 'S102',\n",
       " 'S103',\n",
       " 'S104',\n",
       " 'S105',\n",
       " 'S106',\n",
       " 'S107',\n",
       " 'S108',\n",
       " 'S109',\n",
       " 'S110',\n",
       " 'S111',\n",
       " 'S112',\n",
       " 'S113',\n",
       " 'S114',\n",
       " 'S115',\n",
       " 'S116',\n",
       " 'S117',\n",
       " 'S118',\n",
       " 'S119',\n",
       " 'S120',\n",
       " 'S121',\n",
       " 'S122',\n",
       " 'S123',\n",
       " 'S124',\n",
       " 'S125',\n",
       " 'S126',\n",
       " 'S127',\n",
       " 'S128',\n",
       " 'S129',\n",
       " 'S130',\n",
       " 'S131',\n",
       " 'S132',\n",
       " 'S133']"
      ]
     },
     "execution_count": 46,
     "metadata": {},
     "output_type": "execute_result"
    }
   ],
   "source": [
    "sub_idx"
   ]
  },
  {
   "cell_type": "code",
   "execution_count": 7,
   "metadata": {},
   "outputs": [],
   "source": [
    "df = pd.DataFrame([dict(zip(sub_idx,bold_filenames))])"
   ]
  },
  {
   "cell_type": "code",
   "execution_count": 17,
   "metadata": {},
   "outputs": [],
   "source": [
    "fmri_imgs = df.transpose().to_dict()[0]"
   ]
  },
  {
   "cell_type": "code",
   "execution_count": 19,
   "metadata": {},
   "outputs": [
    {
     "data": {
      "text/plain": [
       "['S01',\n",
       " 'S02',\n",
       " 'S03',\n",
       " 'S04',\n",
       " 'S05',\n",
       " 'S06',\n",
       " 'S07',\n",
       " 'S08',\n",
       " 'S09',\n",
       " 'S10',\n",
       " 'S11',\n",
       " 'S12',\n",
       " 'S13',\n",
       " 'S14',\n",
       " 'S15',\n",
       " 'S16',\n",
       " 'S17',\n",
       " 'S18',\n",
       " 'S19',\n",
       " 'S20',\n",
       " 'S21',\n",
       " 'S22',\n",
       " 'S23',\n",
       " 'S24',\n",
       " 'S25',\n",
       " 'S26',\n",
       " 'S27',\n",
       " 'S28',\n",
       " 'S29',\n",
       " 'S30',\n",
       " 'S32',\n",
       " 'S33',\n",
       " 'S34',\n",
       " 'S35',\n",
       " 'S36',\n",
       " 'S37',\n",
       " 'S38',\n",
       " 'S39',\n",
       " 'S40',\n",
       " 'S41',\n",
       " 'S42',\n",
       " 'S43',\n",
       " 'S44',\n",
       " 'S45',\n",
       " 'S46',\n",
       " 'S48',\n",
       " 'S49',\n",
       " 'S50',\n",
       " 'S51',\n",
       " 'S52',\n",
       " 'S53',\n",
       " 'S54',\n",
       " 'S55',\n",
       " 'S56',\n",
       " 'S57',\n",
       " 'S58',\n",
       " 'S59',\n",
       " 'S60',\n",
       " 'S61',\n",
       " 'S62',\n",
       " 'S63',\n",
       " 'S64',\n",
       " 'S65',\n",
       " 'S66',\n",
       " 'S67',\n",
       " 'S68',\n",
       " 'S69',\n",
       " 'S70',\n",
       " 'S71',\n",
       " 'S72',\n",
       " 'S73',\n",
       " 'S74',\n",
       " 'S75',\n",
       " 'S77',\n",
       " 'S78',\n",
       " 'S79',\n",
       " 'S80',\n",
       " 'S81',\n",
       " 'S82',\n",
       " 'S83',\n",
       " 'S84',\n",
       " 'S85',\n",
       " 'S86',\n",
       " 'S87',\n",
       " 'S88',\n",
       " 'S89',\n",
       " 'S90',\n",
       " 'S91',\n",
       " 'S92',\n",
       " 'S93',\n",
       " 'S94',\n",
       " 'S95',\n",
       " 'S96',\n",
       " 'S97',\n",
       " 'S98',\n",
       " 'S99',\n",
       " 'S100',\n",
       " 'S101',\n",
       " 'S102',\n",
       " 'S103',\n",
       " 'S104',\n",
       " 'S105',\n",
       " 'S106',\n",
       " 'S107',\n",
       " 'S108',\n",
       " 'S109',\n",
       " 'S110',\n",
       " 'S111',\n",
       " 'S112',\n",
       " 'S113',\n",
       " 'S114',\n",
       " 'S115',\n",
       " 'S116',\n",
       " 'S117',\n",
       " 'S118',\n",
       " 'S119',\n",
       " 'S120',\n",
       " 'S121',\n",
       " 'S122',\n",
       " 'S123',\n",
       " 'S124',\n",
       " 'S125',\n",
       " 'S126',\n",
       " 'S127',\n",
       " 'S128',\n",
       " 'S129',\n",
       " 'S130',\n",
       " 'S131',\n",
       " 'S132',\n",
       " 'S133']"
      ]
     },
     "execution_count": 19,
     "metadata": {},
     "output_type": "execute_result"
    }
   ],
   "source": [
    "list(fmri_imgs.keys())"
   ]
  },
  {
   "cell_type": "code",
   "execution_count": 15,
   "metadata": {},
   "outputs": [],
   "source": [
    "cohort_path =  glob('/scratch/myousif9/DM2_hippgrad_xcpengine7/work/*/func/*cohort.csv')[0]"
   ]
  },
  {
   "cell_type": "code",
   "execution_count": 16,
   "metadata": {},
   "outputs": [
    {
     "data": {
      "text/plain": [
       "('sub-S02/sub-S02_residualized.nii.gz',\n",
       " 'sub-S02/sub-S02_residualized_space-fsLR_den-91k_bold.dtseries.nii')"
      ]
     },
     "execution_count": 16,
     "metadata": {},
     "output_type": "execute_result"
    }
   ],
   "source": [
    "fmri_path_cohort(cohort_path)"
   ]
  },
  {
   "cell_type": "code",
   "execution_count": 14,
   "metadata": {},
   "outputs": [
    {
     "data": {
      "text/plain": [
       "'/scratch/myousif9/DM2_hippgrad_xcpengine7/work/sub-S02/func/sub-S02_task-rest_cohort.csv'"
      ]
     },
     "execution_count": 14,
     "metadata": {},
     "output_type": "execute_result"
    }
   ],
   "source": [
    "cohort_path[0]"
   ]
  },
  {
   "cell_type": "code",
   "execution_count": 10,
   "metadata": {},
   "outputs": [
    {
     "data": {
      "text/plain": [
       "'/scratch/myousif9/smk_extract_gradients/smk_extract_gradients/workflow'"
      ]
     },
     "execution_count": 10,
     "metadata": {},
     "output_type": "execute_result"
    }
   ],
   "source": [
    "os.getcwd()"
   ]
  },
  {
   "cell_type": "code",
   "execution_count": 18,
   "metadata": {},
   "outputs": [],
   "source": [
    "hippunfold_path = '/scratch/myousif9/DM2_hippunfold/results/'"
   ]
  },
  {
   "cell_type": "code",
   "execution_count": 20,
   "metadata": {},
   "outputs": [
    {
     "data": {
      "text/plain": [
       "True"
      ]
     },
     "execution_count": 20,
     "metadata": {},
     "output_type": "execute_result"
    }
   ],
   "source": [
    "os.path.exists(hippunfold_path)"
   ]
  },
  {
   "cell_type": "code",
   "execution_count": 45,
   "metadata": {},
   "outputs": [],
   "source": [
    "hippunfold_subjects = [direc.strip('sub-') for direc in os.listdir(hippunfold_path) if 'sub' in direc ]"
   ]
  },
  {
   "cell_type": "code",
   "execution_count": 46,
   "metadata": {},
   "outputs": [
    {
     "data": {
      "text/plain": [
       "['S37',\n",
       " 'S40',\n",
       " 'S116',\n",
       " 'S96',\n",
       " 'S72',\n",
       " 'S05',\n",
       " 'S124',\n",
       " 'S24',\n",
       " 'S53',\n",
       " 'S59',\n",
       " 'S105',\n",
       " 'S61',\n",
       " 'S16',\n",
       " 'S85',\n",
       " 'S130',\n",
       " 'S11',\n",
       " 'S66',\n",
       " 'S88',\n",
       " 'S82',\n",
       " 'S108',\n",
       " 'S102',\n",
       " 'S54',\n",
       " 'S23',\n",
       " 'S29',\n",
       " 'S123',\n",
       " 'S129',\n",
       " 'S91',\n",
       " 'S08',\n",
       " 'S02',\n",
       " 'S75',\n",
       " 'S111',\n",
       " 'S47',\n",
       " 'S30',\n",
       " 'S115',\n",
       " 'S43',\n",
       " 'S34',\n",
       " 'S49',\n",
       " 'S127',\n",
       " 'S06',\n",
       " 'S71',\n",
       " 'S95',\n",
       " 'S106',\n",
       " 'S50',\n",
       " 'S27',\n",
       " 'S86',\n",
       " 'S68',\n",
       " 'S15',\n",
       " 'S62',\n",
       " 'S18',\n",
       " 'S81',\n",
       " 'S65',\n",
       " 'S12',\n",
       " 'S133',\n",
       " 'S20',\n",
       " 'S57',\n",
       " 'S101',\n",
       " 'S98',\n",
       " 'S76',\n",
       " 'S01',\n",
       " 'S92',\n",
       " 'S120',\n",
       " 'S33',\n",
       " 'S44',\n",
       " 'S39',\n",
       " 'S118',\n",
       " 'S112',\n",
       " 'S128',\n",
       " 'S122',\n",
       " 'S74',\n",
       " 'S03',\n",
       " 'S90',\n",
       " 'S09',\n",
       " 'S110',\n",
       " 'S46',\n",
       " 'S131',\n",
       " 'S83',\n",
       " 'S67',\n",
       " 'S10',\n",
       " 'S89',\n",
       " 'S103',\n",
       " 'S109',\n",
       " 'S28',\n",
       " 'S22',\n",
       " 'S55',\n",
       " 'S58',\n",
       " 'S52',\n",
       " 'S25',\n",
       " 'S104',\n",
       " 'S84',\n",
       " 'S17',\n",
       " 'S60',\n",
       " 'S41',\n",
       " 'S36',\n",
       " 'S117',\n",
       " 'S04',\n",
       " 'S73',\n",
       " 'S79',\n",
       " 'S97',\n",
       " 'S125',\n",
       " 'S93',\n",
       " 'S99',\n",
       " 'S77',\n",
       " 'S121',\n",
       " 'S38',\n",
       " 'S45',\n",
       " 'S32',\n",
       " 'S113',\n",
       " 'S119',\n",
       " 'S13',\n",
       " 'S64',\n",
       " 'S19',\n",
       " 'S132',\n",
       " 'S56',\n",
       " 'S21',\n",
       " 'S100',\n",
       " 'S107',\n",
       " 'S26',\n",
       " 'S51',\n",
       " 'S63',\n",
       " 'S14',\n",
       " 'S87',\n",
       " 'S69',\n",
       " 'S114',\n",
       " 'S48',\n",
       " 'S35',\n",
       " 'S42',\n",
       " 'S126',\n",
       " 'S94',\n",
       " 'S70',\n",
       " 'S07']"
      ]
     },
     "execution_count": 46,
     "metadata": {},
     "output_type": "execute_result"
    }
   ],
   "source": [
    "hippunfold_subjects"
   ]
  },
  {
   "cell_type": "code",
   "execution_count": 47,
   "metadata": {},
   "outputs": [],
   "source": [
    "test = [glob(os.path.join(hippunfold_path, 'sub-{subject}/surf_*/sub-{subject}_hemi-*_space-*_den-{density}_midthickness.surf.gii'.format(subject = sub, density='2k'))) for sub in hippunfold_subjects]"
   ]
  },
  {
   "cell_type": "code",
   "execution_count": 63,
   "metadata": {},
   "outputs": [
    {
     "data": {
      "text/plain": [
       "['/scratch/myousif9/DM2_hippunfold/results/sub-S01/surf_T1w/sub-S01_hemi-L_space-T1w_den-2k_midthickness.surf.gii']"
      ]
     },
     "execution_count": 63,
     "metadata": {},
     "output_type": "execute_result"
    }
   ],
   "source": []
  },
  {
   "cell_type": "code",
   "execution_count": 74,
   "metadata": {},
   "outputs": [],
   "source": [
    "test2 = [[], []]\n",
    "for idx, path_list in enumerate(test):\n",
    "    if path_list != []:\n",
    "        test2[0].append(idx), test2[1].append(path_list) \n",
    "         "
   ]
  },
  {
   "cell_type": "code",
   "execution_count": 95,
   "metadata": {},
   "outputs": [
    {
     "data": {
      "text/plain": [
       "[[5, 28, 46, 51, 58, 69, 71, 94, 108, 119, 129],\n",
       " [['/scratch/myousif9/DM2_hippunfold/results/sub-S05/surf_T1w/sub-S05_hemi-L_space-T1w_den-2k_midthickness.surf.gii',\n",
       "   '/scratch/myousif9/DM2_hippunfold/results/sub-S05/surf_T1w/sub-S05_hemi-R_space-T1w_den-2k_midthickness.surf.gii'],\n",
       "  ['/scratch/myousif9/DM2_hippunfold/results/sub-S02/surf_T1w/sub-S02_hemi-R_space-unfolded_den-2k_midthickness.surf.gii',\n",
       "   '/scratch/myousif9/DM2_hippunfold/results/sub-S02/surf_T1w/sub-S02_hemi-L_space-unfolded_den-2k_midthickness.surf.gii',\n",
       "   '/scratch/myousif9/DM2_hippunfold/results/sub-S02/surf_T1w/sub-S02_hemi-R_space-T1w_den-2k_midthickness.surf.gii',\n",
       "   '/scratch/myousif9/DM2_hippunfold/results/sub-S02/surf_T1w/sub-S02_hemi-L_space-T1w_den-2k_midthickness.surf.gii'],\n",
       "  ['/scratch/myousif9/DM2_hippunfold/results/sub-S15/surf_T1w/sub-S15_hemi-L_space-T1w_den-2k_midthickness.surf.gii',\n",
       "   '/scratch/myousif9/DM2_hippunfold/results/sub-S15/surf_T1w/sub-S15_hemi-R_space-T1w_den-2k_midthickness.surf.gii'],\n",
       "  ['/scratch/myousif9/DM2_hippunfold/results/sub-S12/surf_T1w/sub-S12_hemi-R_space-T1w_den-2k_midthickness.surf.gii',\n",
       "   '/scratch/myousif9/DM2_hippunfold/results/sub-S12/surf_T1w/sub-S12_hemi-L_space-T1w_den-2k_midthickness.surf.gii'],\n",
       "  ['/scratch/myousif9/DM2_hippunfold/results/sub-S01/surf_T1w/sub-S01_hemi-L_space-T1w_den-2k_midthickness.surf.gii',\n",
       "   '/scratch/myousif9/DM2_hippunfold/results/sub-S01/surf_T1w/sub-S01_hemi-R_space-T1w_den-2k_midthickness.surf.gii',\n",
       "   '/scratch/myousif9/DM2_hippunfold/results/sub-S01/surf_T1w/sub-S01_hemi-R_space-unfolded_den-2k_midthickness.surf.gii',\n",
       "   '/scratch/myousif9/DM2_hippunfold/results/sub-S01/surf_T1w/sub-S01_hemi-L_space-unfolded_den-2k_midthickness.surf.gii'],\n",
       "  ['/scratch/myousif9/DM2_hippunfold/results/sub-S03/surf_T1w/sub-S03_hemi-L_space-T1w_den-2k_midthickness.surf.gii',\n",
       "   '/scratch/myousif9/DM2_hippunfold/results/sub-S03/surf_T1w/sub-S03_hemi-R_space-T1w_den-2k_midthickness.surf.gii'],\n",
       "  ['/scratch/myousif9/DM2_hippunfold/results/sub-S09/surf_T1w/sub-S09_hemi-R_space-T1w_den-2k_midthickness.surf.gii',\n",
       "   '/scratch/myousif9/DM2_hippunfold/results/sub-S09/surf_T1w/sub-S09_hemi-L_space-T1w_den-2k_midthickness.surf.gii'],\n",
       "  ['/scratch/myousif9/DM2_hippunfold/results/sub-S04/surf_T1w/sub-S04_hemi-L_space-T1w_den-2k_midthickness.surf.gii',\n",
       "   '/scratch/myousif9/DM2_hippunfold/results/sub-S04/surf_T1w/sub-S04_hemi-R_space-T1w_den-2k_midthickness.surf.gii'],\n",
       "  ['/scratch/myousif9/DM2_hippunfold/results/sub-S13/surf_T1w/sub-S13_hemi-R_space-T1w_den-2k_midthickness.surf.gii',\n",
       "   '/scratch/myousif9/DM2_hippunfold/results/sub-S13/surf_T1w/sub-S13_hemi-L_space-T1w_den-2k_midthickness.surf.gii'],\n",
       "  ['/scratch/myousif9/DM2_hippunfold/results/sub-S14/surf_T1w/sub-S14_hemi-R_space-T1w_den-2k_midthickness.surf.gii',\n",
       "   '/scratch/myousif9/DM2_hippunfold/results/sub-S14/surf_T1w/sub-S14_hemi-L_space-T1w_den-2k_midthickness.surf.gii'],\n",
       "  ['/scratch/myousif9/DM2_hippunfold/results/sub-S07/surf_T1w/sub-S07_hemi-L_space-T1w_den-2k_midthickness.surf.gii',\n",
       "   '/scratch/myousif9/DM2_hippunfold/results/sub-S07/surf_T1w/sub-S07_hemi-R_space-T1w_den-2k_midthickness.surf.gii']]]"
      ]
     },
     "execution_count": 95,
     "metadata": {},
     "output_type": "execute_result"
    }
   ],
   "source": [
    "test2"
   ]
  },
  {
   "cell_type": "code",
   "execution_count": 77,
   "metadata": {},
   "outputs": [],
   "source": [
    "from operator import itemgetter\n",
    "getter = itemgetter(*test2[0])"
   ]
  },
  {
   "cell_type": "code",
   "execution_count": 78,
   "metadata": {},
   "outputs": [
    {
     "data": {
      "text/plain": [
       "('S05', 'S02', 'S15', 'S12', 'S01', 'S03', 'S09', 'S04', 'S13', 'S14', 'S07')"
      ]
     },
     "execution_count": 78,
     "metadata": {},
     "output_type": "execute_result"
    }
   ],
   "source": [
    "getter(hippunfold_subjects)"
   ]
  },
  {
   "cell_type": "code",
   "execution_count": 84,
   "metadata": {},
   "outputs": [
    {
     "data": {
      "text/plain": [
       "[['/scratch/myousif9/DM2_hippunfold/results/sub-S05/surf_T1w/sub-S05_hemi-L_space-T1w_den-2k_midthickness.surf.gii',\n",
       "  '/scratch/myousif9/DM2_hippunfold/results/sub-S05/surf_T1w/sub-S05_hemi-R_space-T1w_den-2k_midthickness.surf.gii'],\n",
       " ['/scratch/myousif9/DM2_hippunfold/results/sub-S02/surf_T1w/sub-S02_hemi-R_space-unfolded_den-2k_midthickness.surf.gii',\n",
       "  '/scratch/myousif9/DM2_hippunfold/results/sub-S02/surf_T1w/sub-S02_hemi-L_space-unfolded_den-2k_midthickness.surf.gii',\n",
       "  '/scratch/myousif9/DM2_hippunfold/results/sub-S02/surf_T1w/sub-S02_hemi-R_space-T1w_den-2k_midthickness.surf.gii',\n",
       "  '/scratch/myousif9/DM2_hippunfold/results/sub-S02/surf_T1w/sub-S02_hemi-L_space-T1w_den-2k_midthickness.surf.gii'],\n",
       " ['/scratch/myousif9/DM2_hippunfold/results/sub-S15/surf_T1w/sub-S15_hemi-L_space-T1w_den-2k_midthickness.surf.gii',\n",
       "  '/scratch/myousif9/DM2_hippunfold/results/sub-S15/surf_T1w/sub-S15_hemi-R_space-T1w_den-2k_midthickness.surf.gii'],\n",
       " ['/scratch/myousif9/DM2_hippunfold/results/sub-S12/surf_T1w/sub-S12_hemi-R_space-T1w_den-2k_midthickness.surf.gii',\n",
       "  '/scratch/myousif9/DM2_hippunfold/results/sub-S12/surf_T1w/sub-S12_hemi-L_space-T1w_den-2k_midthickness.surf.gii'],\n",
       " ['/scratch/myousif9/DM2_hippunfold/results/sub-S01/surf_T1w/sub-S01_hemi-L_space-T1w_den-2k_midthickness.surf.gii',\n",
       "  '/scratch/myousif9/DM2_hippunfold/results/sub-S01/surf_T1w/sub-S01_hemi-R_space-T1w_den-2k_midthickness.surf.gii',\n",
       "  '/scratch/myousif9/DM2_hippunfold/results/sub-S01/surf_T1w/sub-S01_hemi-R_space-unfolded_den-2k_midthickness.surf.gii',\n",
       "  '/scratch/myousif9/DM2_hippunfold/results/sub-S01/surf_T1w/sub-S01_hemi-L_space-unfolded_den-2k_midthickness.surf.gii'],\n",
       " ['/scratch/myousif9/DM2_hippunfold/results/sub-S03/surf_T1w/sub-S03_hemi-L_space-T1w_den-2k_midthickness.surf.gii',\n",
       "  '/scratch/myousif9/DM2_hippunfold/results/sub-S03/surf_T1w/sub-S03_hemi-R_space-T1w_den-2k_midthickness.surf.gii'],\n",
       " ['/scratch/myousif9/DM2_hippunfold/results/sub-S09/surf_T1w/sub-S09_hemi-R_space-T1w_den-2k_midthickness.surf.gii',\n",
       "  '/scratch/myousif9/DM2_hippunfold/results/sub-S09/surf_T1w/sub-S09_hemi-L_space-T1w_den-2k_midthickness.surf.gii'],\n",
       " ['/scratch/myousif9/DM2_hippunfold/results/sub-S04/surf_T1w/sub-S04_hemi-L_space-T1w_den-2k_midthickness.surf.gii',\n",
       "  '/scratch/myousif9/DM2_hippunfold/results/sub-S04/surf_T1w/sub-S04_hemi-R_space-T1w_den-2k_midthickness.surf.gii'],\n",
       " ['/scratch/myousif9/DM2_hippunfold/results/sub-S13/surf_T1w/sub-S13_hemi-R_space-T1w_den-2k_midthickness.surf.gii',\n",
       "  '/scratch/myousif9/DM2_hippunfold/results/sub-S13/surf_T1w/sub-S13_hemi-L_space-T1w_den-2k_midthickness.surf.gii'],\n",
       " ['/scratch/myousif9/DM2_hippunfold/results/sub-S14/surf_T1w/sub-S14_hemi-R_space-T1w_den-2k_midthickness.surf.gii',\n",
       "  '/scratch/myousif9/DM2_hippunfold/results/sub-S14/surf_T1w/sub-S14_hemi-L_space-T1w_den-2k_midthickness.surf.gii'],\n",
       " ['/scratch/myousif9/DM2_hippunfold/results/sub-S07/surf_T1w/sub-S07_hemi-L_space-T1w_den-2k_midthickness.surf.gii',\n",
       "  '/scratch/myousif9/DM2_hippunfold/results/sub-S07/surf_T1w/sub-S07_hemi-R_space-T1w_den-2k_midthickness.surf.gii']]"
      ]
     },
     "execution_count": 84,
     "metadata": {},
     "output_type": "execute_result"
    }
   ],
   "source": [
    "test2[1]"
   ]
  },
  {
   "cell_type": "code",
   "execution_count": 94,
   "metadata": {},
   "outputs": [
    {
     "data": {
      "text/plain": [
       "{'S05': '/scratch/myousif9/DM2_hippunfold/results/sub-S05/surf_T1w/sub-S05_hemi-{hemi}_space-T1w_den-2k_midthickness.surf.gii',\n",
       " 'S02': '/scratch/myousif9/DM2_hippunfold/results/sub-S02/surf_T1w/sub-S02_hemi-{hemi}_space-T1w_den-2k_midthickness.surf.gii',\n",
       " 'S15': '/scratch/myousif9/DM2_hippunfold/results/sub-S15/surf_T1w/sub-S15_hemi-{hemi}_space-T1w_den-2k_midthickness.surf.gii',\n",
       " 'S12': '/scratch/myousif9/DM2_hippunfold/results/sub-S12/surf_T1w/sub-S12_hemi-{hemi}_space-T1w_den-2k_midthickness.surf.gii',\n",
       " 'S01': '/scratch/myousif9/DM2_hippunfold/results/sub-S01/surf_T1w/sub-S01_hemi-{hemi}_space-T1w_den-2k_midthickness.surf.gii',\n",
       " 'S03': '/scratch/myousif9/DM2_hippunfold/results/sub-S03/surf_T1w/sub-S03_hemi-{hemi}_space-T1w_den-2k_midthickness.surf.gii',\n",
       " 'S09': '/scratch/myousif9/DM2_hippunfold/results/sub-S09/surf_T1w/sub-S09_hemi-{hemi}_space-T1w_den-2k_midthickness.surf.gii',\n",
       " 'S04': '/scratch/myousif9/DM2_hippunfold/results/sub-S04/surf_T1w/sub-S04_hemi-{hemi}_space-T1w_den-2k_midthickness.surf.gii',\n",
       " 'S13': '/scratch/myousif9/DM2_hippunfold/results/sub-S13/surf_T1w/sub-S13_hemi-{hemi}_space-T1w_den-2k_midthickness.surf.gii',\n",
       " 'S14': '/scratch/myousif9/DM2_hippunfold/results/sub-S14/surf_T1w/sub-S14_hemi-{hemi}_space-T1w_den-2k_midthickness.surf.gii',\n",
       " 'S07': '/scratch/myousif9/DM2_hippunfold/results/sub-S07/surf_T1w/sub-S07_hemi-{hemi}_space-T1w_den-2k_midthickness.surf.gii'}"
      ]
     },
     "execution_count": 94,
     "metadata": {},
     "output_type": "execute_result"
    }
   ],
   "source": [
    "def filter_hippunfold_list(path_list):\n",
    "    new_list = []\n",
    "    for item in path_list:\n",
    "        if 'unfolded' in item:\n",
    "            continue\n",
    "        else:\n",
    "            item = item.replace('hemi-L','hemi-{hemi}')\n",
    "            item = item.replace('hemi-R','hemi-{hemi}')\n",
    "            new_list.append(item)\n",
    "    return list(set(new_list))[0]\n",
    "    \n",
    "\n",
    "dict(zip(getter(hippunfold_subjects), list(map(filter_hippunfold_list, test2[1]))))"
   ]
  },
  {
   "cell_type": "code",
   "execution_count": null,
   "metadata": {},
   "outputs": [],
   "source": []
  },
  {
   "cell_type": "code",
   "execution_count": null,
   "metadata": {},
   "outputs": [],
   "source": []
  },
  {
   "cell_type": "code",
   "execution_count": null,
   "metadata": {},
   "outputs": [],
   "source": []
  },
  {
   "cell_type": "code",
   "execution_count": null,
   "metadata": {},
   "outputs": [],
   "source": []
  },
  {
   "cell_type": "code",
   "execution_count": null,
   "metadata": {},
   "outputs": [],
   "source": []
  }
 ],
 "metadata": {
  "interpreter": {
   "hash": "7a4bbd73db7ac8166baf5e69b3f4271c77ced6027c31bd0c6864729fd5588f5a"
  },
  "kernelspec": {
   "display_name": "Python 3.9.6 64-bit ('smk-extractgrad_venv': conda)",
   "name": "python3"
  },
  "language_info": {
   "codemirror_mode": {
    "name": "ipython",
    "version": 3
   },
   "file_extension": ".py",
   "mimetype": "text/x-python",
   "name": "python",
   "nbconvert_exporter": "python",
   "pygments_lexer": "ipython3",
   "version": "3.9.6"
  },
  "orig_nbformat": 4
 },
 "nbformat": 4,
 "nbformat_minor": 2
}
